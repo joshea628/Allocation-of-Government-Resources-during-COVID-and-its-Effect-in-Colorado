{
 "cells": [
  {
   "cell_type": "code",
   "execution_count": null,
   "metadata": {},
   "outputs": [],
   "source": [
    "import pandas as pd\n",
    "import numpy as np\n",
    "import matplotlib.pyplot as plt\n",
    "import matplotlib\n",
    "import seaborn as sns\n",
    "import folium\n",
    "plt.style.use('ggplot')\n"
   ]
  },
  {
   "cell_type": "code",
   "execution_count": null,
   "metadata": {},
   "outputs": [],
   "source": [
    "df = pd.read_csv('../.gitignore/PPP_data_to_150k.csv')\n",
    "df.info()\n",
    "df.head()"
   ]
  },
  {
   "cell_type": "code",
   "execution_count": null,
   "metadata": {},
   "outputs": [],
   "source": [
    "df2 = df[~df.RaceEthnicity.str.contains(\"Unanswered\")]\n"
   ]
  },
  {
   "cell_type": "code",
   "execution_count": null,
   "metadata": {},
   "outputs": [],
   "source": [
    "ethnicities = df_with_counties['RaceEthnicity'].unique()\n",
    "# ethnicities[3] = 'American Indian \\n or Alaska Native'\n",
    "# ethnicities[4] = 'Black or \\n African American'\n",
    "ethnicities"
   ]
  },
  {
   "cell_type": "code",
   "execution_count": null,
   "metadata": {},
   "outputs": [],
   "source": [
    "def split_ethnicities(ethnicities):\n",
    "    dataframes = [df_with_counties[df_with_counties['RaceEthnicity'] == name] for name in ethnicities]\n",
    "    return dataframes\n"
   ]
  },
  {
   "cell_type": "code",
   "execution_count": null,
   "metadata": {},
   "outputs": [],
   "source": [
    "white_df, hispanic_df, am_indian_alaska_df, asian_df, black_df, puerto_rican_df = split_ethnicities(ethnicities)\n",
    "asian_df"
   ]
  },
  {
   "cell_type": "code",
   "execution_count": null,
   "metadata": {},
   "outputs": [],
   "source": [
    "ethnicity_dfs = [white_df, hispanic_df, am_indian_alaska_df, asian_df, black_df, puerto_rican_df]\n"
   ]
  },
  {
   "cell_type": "code",
   "execution_count": null,
   "metadata": {},
   "outputs": [],
   "source": [
    "chart_colors = ['#003f5c', '#bc5090','#58508d', '#dd5182','#ff6361', '#ffa600']"
   ]
  },
  {
   "cell_type": "code",
   "execution_count": null,
   "metadata": {},
   "outputs": [],
   "source": [
    "# average loan amount for each ethnicity\n",
    "def avg_loan_by_ethnicity(ethnicities, ethnicity_dfs):\n",
    "    '''\n",
    "    Computes average loan amount for each dataframe in inputted list.\n",
    "\n",
    "    Returns: Dictionary of averages for each ethnicity in the form of ethnicity:average\n",
    "    '''\n",
    "    avg_loan = {eth:round(df['LoanAmount'].mean(),2) for eth, df in zip(ethnicities, ethnicity_dfs)}\n",
    "    return avg_loan\n",
    "ethnicity_avg_loan = avg_loan_by_ethnicity(ethnicities, ethnicity_dfs)\n",
    "ethnicity_avg_loan\n"
   ]
  },
  {
   "cell_type": "code",
   "execution_count": null,
   "metadata": {},
   "outputs": [],
   "source": [
    "# average loan amount for each ethnicity\n",
    "def avg_loan_by_ethnicity(ethnicities, ethnicity_dfs):\n",
    "    '''\n",
    "    Computes average loan amount for each dataframe in inputted list.\n",
    "\n",
    "    Returns: Dictionary of averages for each ethnicity in the form of ethnicity:average\n",
    "    '''\n",
    "    avg_loan = {eth:round(df['LoanAmount'].mean(),2) for eth, df in zip(ethnicities, ethnicity_dfs)}\n",
    "    return avg_loan\n",
    "ethnicity_avg_loan = avg_loan_by_ethnicity(ethnicities, ethnicity_dfs)\n",
    "ethnicity_avg_loan\n"
   ]
  },
  {
   "cell_type": "code",
   "execution_count": null,
   "metadata": {},
   "outputs": [],
   "source": [
    "ethnicity_avg_loans = [white_avg, hispanic_avg, am_indian_alaska_avg, asian_avg, black_avg, puerto_rican_avg]\n"
   ]
  },
  {
   "cell_type": "code",
   "execution_count": null,
   "metadata": {},
   "outputs": [],
   "source": [
    "#graph loan amounts \n",
    "def average_loan_ethnicity(ethnicity_avg_loan, chart_colors, save_loc):\n",
    "    fig, ax = plt.subplots(1, figsize=(12,4), dpi=700)\n",
    "    keys = ethnicity_avg_loan.keys()\n",
    "    averages = ethnicity_avg_loan.values()\n",
    "    bar = ax.bar(keys, averages)\n",
    "    for i in range(len(ethnicity_avg_loan)):\n",
    "        bar[i].set_color(chart_colors[i])\n",
    "    plt.xticks(rotation=45, fontsize=12, horizontalalignment='right')\n",
    "    ax.set_xlabel('Ethnicity', fontsize= 16)\n",
    "    ax.set_ylabel('Average Loan Amount in $', fontsize= 16)\n",
    "    ax.set_title('Average Loan Amount by Ethnicity in Colorado', fontsize=18)\n",
    "    \n",
    "    plt.savefig(save_loc, bbox_inches='tight')\n",
    "    "
   ]
  },
  {
   "cell_type": "code",
   "execution_count": null,
   "metadata": {},
   "outputs": [],
   "source": [
    "average_loan_ethnicity(ethnicity_avg_loan, chart_colors, '../images/avg_loan_ethnicity.png')\n"
   ]
  },
  {
   "cell_type": "code",
   "execution_count": null,
   "metadata": {},
   "outputs": [],
   "source": [
    "count_zips = white_df.groupby(['Zip']).count()['LoanAmount']\n",
    "count_zips.sort_values(ascending=False).head(5)"
   ]
  },
  {
   "cell_type": "code",
   "execution_count": null,
   "metadata": {},
   "outputs": [],
   "source": [
    "#top zip codes for each ethnicity\n",
    "def top_zip(ethnicity_dfs, ethnicities):\n",
    "    top_dict = {}\n",
    "    for eth, df in zip(ethnicities, ethnicity_dfs):\n",
    "        df['Zip'] = df['Zip'].astype(int)\n",
    "        count_zips = df.groupby(['Zip'])['LoanAmount'].count()\n",
    "        #count_zips['Zip'].astype(int)\n",
    "        sort_zip = count_zips.sort_values(ascending=False).head(5)\n",
    "        top_dict[eth]= sort_zip\n",
    "        \n",
    "    return top_dict\n",
    "\n",
    "top_zips = top_zip(ethnicity_dfs, ethnicities)\n",
    "top_zips"
   ]
  },
  {
   "cell_type": "code",
   "execution_count": null,
   "metadata": {},
   "outputs": [],
   "source": [
    "zips.columns"
   ]
  },
  {
   "cell_type": "code",
   "execution_count": null,
   "metadata": {},
   "outputs": [],
   "source": [
    "#graph top zips\n",
    "\n",
    "zips"
   ]
  },
  {
   "cell_type": "code",
   "execution_count": null,
   "metadata": {},
   "outputs": [],
   "source": [
    "zips = pd.DataFrame(top_zips)\n",
    "zips.fillna(0, inplace=True)\n",
    "zips['total'] = zips['White'] + zips['American Indian or Alaska Native'] + zips['Asian'] + zips['Black or African American']+ zips['Puerto Rican'] + zips['Hispanic']\n",
    "zips = pd.DataFrame(zips).sort_values('total')    \n",
    "zips.drop('total', axis=1,inplace=True)\n"
   ]
  },
  {
   "cell_type": "code",
   "execution_count": null,
   "metadata": {},
   "outputs": [],
   "source": [
    "ax = zips.plot(kind='barh', stacked=True, color=chart_colors)\n",
    "plt.yticks(fontsize = 12)\n",
    "ax.set_xlabel('Number of Loans')\n",
    "ax.set_title('Top 5 Zip Codes for Count of Loans')\n",
    "plt.savefig('../images/top_zip_loancount.png')\n",
    "plt.tight_layout()\n",
    "plt.show()"
   ]
  },
  {
   "cell_type": "code",
   "execution_count": null,
   "metadata": {},
   "outputs": [],
   "source": [
    "numloansSeries = df2.groupby('Zip').count().LoanAmount\n",
    "COMap = folium.Map(location=[39.5501,-105.7821], tiles='Stamen Toner', zoom_start=6.5)\n",
    "COMap"
   ]
  },
  {
   "cell_type": "code",
   "execution_count": null,
   "metadata": {},
   "outputs": [],
   "source": [
    "#group the dataframe by zip code and count the number of stores in each zip code\n",
    "numloansSeries = df2.groupby('Zip').count().LoanAmount\n",
    "#initialize an empty dataframe to store this new data\n",
    "numloansByZip = pd.DataFrame()\n",
    "#populate the new dataframe with a 'zipcode' column and a 'numStores' column\n",
    "numloansByZip['zipcode'] = [str(i) for i in numloansSeries.index]\n",
    "numloansByZip['numloans'] = numloansSeries.values\n",
    "\n",
    "#initialize the Colorado Zipcode map\n",
    "COMap = folium.Map(location=[39.5501,-105.7821], tiles='Stamen Toner', zoom_start=6.5)\n",
    "\n",
    "# state_geo = \n",
    "#draw the choropleth map. These are the key components:\n",
    "#--geo_path: the geojson which you want to draw on the map [in our case it is the zipcodes in LA County]\n",
    "\n",
    "#--data: the pandas dataframe which contains the zipcode information \n",
    "# AND the values of the variable you want to plot on the choropleth\n",
    "\n",
    "#--columns: the columns from the dataframe that you want to use \n",
    "#[this should include a geospatial column [zipcode] and a variable [numStores]\n",
    "\n",
    "#--key_on: the common key between one of your columns and an attribute in the geojson. \n",
    "#This is how python knows which dataframe row matches up to which zipcode in the geojson\n",
    "\n",
    "COMap.choropleth(data=numloansByZip, geo_data='../data/Co.geojson', columns=['zipcode', 'numloans'], \\\n",
    "                 key_on='feature.zipcode', fill_color='YlGn', fill_opacity=1)\n",
    "\n",
    "#laMap.save('laChoropleth.html')"
   ]
  },
  {
   "cell_type": "code",
   "execution_count": null,
   "metadata": {},
   "outputs": [],
   "source": [
    "df2[df2['Zip'] == 69128.0]\n",
    "df2.drop([71479],axis=0, inplace=True)\n"
   ]
  },
  {
   "cell_type": "code",
   "execution_count": null,
   "metadata": {},
   "outputs": [],
   "source": [
    "df2[df2['Zip'] == 69128.0]"
   ]
  },
  {
   "cell_type": "code",
   "execution_count": null,
   "metadata": {},
   "outputs": [],
   "source": [
    "top_10_loan_zip = df2.groupby(['Zip']).sum()['LoanAmount'].sort_values(ascending=False).head(10)"
   ]
  },
  {
   "cell_type": "code",
   "execution_count": null,
   "metadata": {},
   "outputs": [],
   "source": [
    "keys = top_10_avg_loan.index.tolist()\n",
    "keys_int = [int(x) for x in keys]\n",
    "keys_as_str = [str(x) for x in keys]\n",
    "height = top_5_avg_loan.values.tolist()\n",
    "width = 0.35\n",
    "\n",
    "fig, ax = plt.subplots(1, figsize=(12,4), dpi=300)\n",
    "ax.bar(keys_as_str, height, width=width, color='#003f5c')\n",
    "ax.set_xlabel('Zip Code', fontsize=14)\n",
    "ax.set_ylabel('Loan Amount in $', fontsize = 14)\n",
    "ax.set_title('Top 5 Zipcodes with Highest Loan Amount', fontsize=18)"
   ]
  },
  {
   "cell_type": "code",
   "execution_count": null,
   "metadata": {},
   "outputs": [],
   "source": [
    "top_10_avg_loan = df2.groupby(['Zip', 'RaceEthnicity']).mean()['LoanAmount'].sort_values(ascending=False).head(10)\n",
    "top_10_avg_loan"
   ]
  },
  {
   "cell_type": "code",
   "execution_count": null,
   "metadata": {},
   "outputs": [],
   "source": [
    "\n",
    "top_dfs = [df2[df2['Zip']==x] for x in keys]\n",
    "top_dfs[0]"
   ]
  },
  {
   "cell_type": "code",
   "execution_count": null,
   "metadata": {},
   "outputs": [],
   "source": [
    "counties = pd.read_csv('../data/zip_code_database.csv')\n",
    "#filter zip code database for Colorado, drop unnecessary columns\n",
    "co_counties = counties[counties['state']=='CO']\n",
    "co_counties.drop(['decommissioned', 'acceptable_cities', 'unacceptable_cities','timezone','area_codes','world_region','country','irs_estimated_population_2015','primary_city','state'],axis=1,inplace=True)\n",
    "\n",
    "#merge counties onto dataframe \n",
    "df_with_counties = pd.merge(df2,co_counties, left_on='Zip', right_on='zip')\n",
    "df_with_counties"
   ]
  },
  {
   "cell_type": "code",
   "execution_count": null,
   "metadata": {},
   "outputs": [],
   "source": [
    "def top_county(ethnicity_dfs, ethnicities):\n",
    "    '''\n",
    "    Counts the number of loans for each Ethnicity group, sorts by top 5.\n",
    "\n",
    "    Returns: Dictionary where Keys are the Ethnicities and values are a dataframe of top 5\n",
    "    zipcodes and the count of loans from each zip.\n",
    "    '''\n",
    "    top_dict = {}\n",
    "    for eth, df in zip(ethnicities, ethnicity_dfs):\n",
    "        count_counties = df.groupby(['county']).count()['LoanAmount']\n",
    "        sort_counties = count_counties.sort_values(ascending=False).head(5)\n",
    "        top_dict[eth]= sort_counties\n",
    "    return top_dict\n",
    "\n",
    "top_county = top_county(ethnicity_dfs, ethnicities)\n",
    "top_county"
   ]
  },
  {
   "cell_type": "code",
   "execution_count": null,
   "metadata": {},
   "outputs": [],
   "source": [
    "#top county bar chart\n",
    "def graph_top_counties(top_county, chart_colors, saveloc):\n",
    "    counties = pd.DataFrame(top_county)\n",
    "    counties.fillna(0, inplace=True)\n",
    "    counties['total'] = counties['White'] + counties['American Indian or Alaska Native'] + counties['Asian'] + counties['Black or African American']+ counties['Puerto Rican'] + counties['Hispanic']\n",
    "    counties = pd.DataFrame(counties).sort_values('total')    \n",
    "    counties.drop('total', axis=1,inplace=True)\n",
    "    \n",
    "    \n",
    "    ax = counties.plot(kind='barh', stacked=True, color=chart_colors,figsize=(10,6))\n",
    "    plt.yticks(fontsize = 16)\n",
    "    ax.set_xlabel('Number of Loans', fontsize=17)\n",
    "    ax.set_title('Top 8 Counties for Loans', fontsize=18)\n",
    "    plt.savefig(saveloc, bbox_inches='tight')\n",
    "\n",
    "graph_top_counties(top_county, chart_colors, '../images/top_county_loancount.png')"
   ]
  },
  {
   "cell_type": "code",
   "execution_count": null,
   "metadata": {},
   "outputs": [],
   "source": [
    "demographics = pd.read_csv('../data/counties.csv')\n",
    "demographics_18 = demographics[demographics['YEAR']==2018]\n",
    "demographics_18 = demographics_18.iloc[:,:11]\n",
    "demographics_18.columns"
   ]
  },
  {
   "cell_type": "code",
   "execution_count": null,
   "metadata": {},
   "outputs": [],
   "source": [
    "#overall colorado demographics by ethnicity\n",
    "demographic_eth_cols = ['NH Whites','Hispanic','NH Am Indian/Native','NH Asian','NH Afr Am']\n",
    "total_demographics = [sum(demographics_18[x]) for x in demographic_eth_cols]\n",
    "other = sum(demographics_18['NH Two or more']) + sum(demographics_18['NH Native Hawaiian/other'])\n",
    "total_demographics.append(other)\n",
    "total_demographics"
   ]
  },
  {
   "cell_type": "code",
   "execution_count": null,
   "metadata": {},
   "outputs": [],
   "source": [
    "def graph_demographics(total_demographics, ethnicities, saveloc):\n",
    "    fig, ax = plt.subplots(1,figsize=(12,4))\n",
    "    ethnicities_dem = ethnicities[:-1]\n",
    "    ethnicities_dem=np.append(ethnicities_dem, 'Other')\n",
    "    plt.bar(ethnicities_dem, total_demographics, color=chart_colors)\n",
    "    plt.xticks(rotation=45, fontsize=12, horizontalalignment='right')\n",
    "    ax.set_yscale('log')\n",
    "    ax.set_xlabel('Ethnicity', fontsize=16)\n",
    "    ax.set_ylabel('Millions of People', fontsize=16)\n",
    "    ax.set_title('Distribution of Ethnicity in Colorado', fontsize=18)\n",
    "    plt.savefig(saveloc, bbox_inches='tight')\n",
    "\n",
    "graph_demographics(total_demographics, ethnicities, '../images/demographics.png')"
   ]
  },
  {
   "cell_type": "code",
   "execution_count": null,
   "metadata": {},
   "outputs": [],
   "source": [
    "def graph_top_zips(top_zips, chart_colors, saveloc):\n",
    "    zips = pd.DataFrame(top_zips)\n",
    "    zips.fillna(0, inplace=True)\n",
    "    zips['total'] = zips['White'] + zips['American Indian or Alaska Native'] + zips['Asian'] + zips['Black or African American']+ zips['Puerto Rican'] + zips['Hispanic']\n",
    "    zips = pd.DataFrame(zips).sort_values('total')    \n",
    "    zips.drop('total', axis=1,inplace=True)\n",
    "\n",
    "    ax = zips.plot(kind='barh', stacked=True, color=chart_colors,figsize=(14,6))\n",
    "    plt.yticks(fontsize = 12)\n",
    "    ax.set_xlabel('Number of Loans', fontsize=16)\n",
    "    ax.set_ylabel('Zip',fontsize=16)\n",
    "    ax.set_title('Top Zip Codes for Loans', fontsize=18)\n",
    "    plt.savefig(saveloc, bbox_inches='tight')\n",
    "\n",
    "graph_top_zips(top_zips, chart_colors, '../images/top_zip_loancount.png')"
   ]
  },
  {
   "cell_type": "code",
   "execution_count": null,
   "metadata": {},
   "outputs": [],
   "source": [
    "#demographics by county\n",
    "top_counties_loans= ['Denver County', 'El Paso County', 'Jefferson County','Arapahoe County','Larimer County','Adams County','Douglas County','Weld County']\n",
    "county_rows = [demographics_18[demographics_18['CTYNAME'] == x] for x in top_counties_loans]\n",
    "\n",
    "#iterate through list of counties and pull out populations for each ethnicity\n",
    "demographics_by_county =[]\n",
    "for i in range(len(county_rows)):\n",
    "    county_list = []\n",
    "    for eth in demographic_eth_cols:\n",
    "        county_list.append(int(county_rows[i][eth].values))\n",
    "    \n",
    "    other = county_rows[i]['NH Two or more'].values + county_rows[i]['NH Native Hawaiian/other'].values\n",
    "    county_list.append(int(other))\n",
    "    demographics_by_county.append(county_list)\n",
    "county_rows"
   ]
  },
  {
   "cell_type": "code",
   "execution_count": null,
   "metadata": {},
   "outputs": [],
   "source": [
    "def top_county_sum(ethnicity_dfs, ethnicities):\n",
    "    '''\n",
    "    Counts the number of loans for each Ethnicity group, sorts by top 5.\n",
    "\n",
    "    Returns: Dictionary where Keys are the Ethnicities and values are a dataframe of top 5\n",
    "    zipcodes and the count of loans from each zip.\n",
    "    '''\n",
    "    top_dict = {}\n",
    "    for eth, df in zip(ethnicities, ethnicity_dfs):\n",
    "        count_counties = df.groupby(['county']).sum()['LoanAmount']\n",
    "        sort_counties = count_counties.sort_values(ascending=False).head(5)\n",
    "        top_dict[eth]= sort_counties\n",
    "    return top_dict\n",
    "\n",
    "top_county_sum = top_county_sum(ethnicity_dfs, ethnicities)\n",
    "\n",
    "\n",
    "#top county bar chart\n",
    "def graph_top_counties(top_county, chart_colors, saveloc):\n",
    "    counties = pd.DataFrame(top_county)\n",
    "    counties.fillna(0, inplace=True)\n",
    "    counties['total'] = counties['White'] + counties['American Indian or Alaska Native'] + counties['Asian'] + counties['Black or African American']+ counties['Puerto Rican'] + counties['Hispanic']\n",
    "    counties = pd.DataFrame(counties).sort_values('total')    \n",
    "    counties.drop('total', axis=1,inplace=True)\n",
    "    \n",
    "    \n",
    "    ax = counties.plot(kind='barh', stacked=True, color=chart_colors,figsize=(10,6))\n",
    "    plt.yticks(fontsize = 16)\n",
    "    ax.set_xlabel('Loan Amount in USD', fontsize=17)\n",
    "    ax.set_title('Top 8 Counties for Loans', fontsize=18)\n",
    "    plt.savefig(saveloc, bbox_inches='tight')\n",
    "\n",
    "#graph_top_counties(top_county_sum, chart_colors, '../images/top_county_loansum.png')\n",
    "top_county_sum"
   ]
  },
  {
   "cell_type": "code",
   "execution_count": null,
   "metadata": {
    "scrolled": false
   },
   "outputs": [],
   "source": [
    "\n",
    "#top county bar chart\n",
    "def graph_top_county_demographics(demographics_by_county, ethnicities, top_counties_loans, chart_colors, saveloc):\n",
    "    ethnicities_dem = ethnicities[:-1]\n",
    "    ethnicities_dem=np.append(ethnicities_dem, 'Other')\n",
    "    fig, ax = plt.subplots(1,figsize=(10,6))\n",
    "    for x in range(len(demographics_by_county)):\n",
    "        plt.barh(top_counties_loans[x], demographics_by_county[x], label=top_counties_loans[x], color=chart_colors)\n",
    "        \n",
    "    ax.set_xlabel('Number of People', fontsize=17)\n",
    "    ax.set_title('Demographics of Top 8 Counties for Loans', fontsize=18)\n",
    "    plt.legend(ethnicities_dem)\n",
    "    plt.savefig(saveloc, bbox_inches='tight')\n",
    "\n",
    "graph_top_county_demographics(demographics_by_county, ethnicities, top_counties_loans, chart_colors, '../images/top_county_loancount_demographic.png')"
   ]
  },
  {
   "cell_type": "code",
   "execution_count": null,
   "metadata": {},
   "outputs": [],
   "source": [
    "## avg amount of loan compared to jobs retained by ethnicity\n",
    "avg_loan_by_ethnicity = [round(x['LoanAmount'].mean(),2) for x in ethnicity_dfs]\n",
    "avg_jobs_retained_by_ethnicity = [round(x['JobsRetained'].mean(),3) for x in ethnicity_dfs]\n",
    "\n",
    "def zip_lists(list1,list2):\n",
    "    zipped = [(x,y) for x,y in zip(list1, list2)]\n",
    "    return zipped\n",
    "avg_jobs_loans = zip_lists(avg_jobs_retained_by_ethnicity, avg_loan_by_ethnicity)\n",
    "avg_jobs_loans"
   ]
  },
  {
   "cell_type": "code",
   "execution_count": null,
   "metadata": {},
   "outputs": [],
   "source": [
    "ethnicity_dfs_job_comparison = [x.dropna(subset=['JobsRetained']) for x in ethnicity_dfs]\n",
    "#graph jobs retained vs loan amount\n",
    "loan_by_ethnicity = [x['LoanAmount'].values for x in ethnicity_dfs_job_comparison]\n",
    "jobs_retained_by_ethnicity = [x['JobsRetained'].values for x in ethnicity_dfs_job_comparison]\n",
    "\n",
    "zip_lists(jobs_retained_by_ethnicity, loan_by_ethnicity)"
   ]
  },
  {
   "cell_type": "code",
   "execution_count": null,
   "metadata": {},
   "outputs": [],
   "source": [
    "def total_loan_by_ethnicity(ethnicities, ethnicity_dfs):\n",
    "    '''\n",
    "    Computes average loan amount for each dataframe in inputted list.\n",
    "\n",
    "    Returns: Dictionary of averages for each ethnicity in the form of ethnicity:average\n",
    "    '''\n",
    "    total_loan = {eth:df['LoanAmount'].sum() for eth, df in zip(ethnicities, ethnicity_dfs)}\n",
    "    return total_loan\n",
    "ethnicity_total_loan = total_loan_by_ethnicity(ethnicities, ethnicity_dfs)\n",
    "def graph_total_loan_ethnicity(ethnicity_total_loan, chart_colors, save_loc):\n",
    "    '''\n",
    "    Graphs the total Loan Amount by Ethnicity\n",
    "\n",
    "    Returns: None\n",
    "    '''\n",
    "    fig, ax = plt.subplots(1, figsize=(12,4), dpi=700)\n",
    "    keys = ethnicity_total_loan.keys()\n",
    "    totals = ethnicity_total_loan.values()\n",
    "    bar = ax.bar(keys, totals)\n",
    "    for i in range(len(ethnicity_total_loan)):\n",
    "        bar[i].set_color(chart_colors[i])\n",
    "    plt.xticks(rotation=45, fontsize=12, horizontalalignment='right')\n",
    "    #ax.set_yscale('log')\n",
    "    ax.set_xlabel('Ethnicity', fontsize= 16)\n",
    "    ax.set_ylabel('Total Loan Amount in $', fontsize= 16)\n",
    "    ax.set_title('Total Loan Amount by Ethnicity in Colorado', fontsize=18)\n",
    "    plt.savefig(save_loc, bbox_inches='tight')\n",
    "\n",
    "graph_total_loan_ethnicity(ethnicity_total_loan, chart_colors, '../images/total_loan_ethnicity_nologscale.png')"
   ]
  },
  {
   "cell_type": "code",
   "execution_count": null,
   "metadata": {},
   "outputs": [],
   "source": [
    "#demographics by county\n",
    "top_counties_loans= ['Denver County', 'El Paso County', 'Jefferson County','Arapahoe County','Larimer County','Adams County','Douglas County','Weld County']\n",
    "county_rows = [demographics_18[demographics_18['CTYNAME'] == x] for x in top_counties_loans]\n",
    "\n",
    "def top_county_demographics(county_rows, demographic_eth_cols):\n",
    "    '''\n",
    "    Number of people for each Ethnicity group, sorts by top 8.\n",
    "\n",
    "    Returns: Dictionary where Keys are the Ethnicities and values are a dataframe of top 5\n",
    "    counties and number of people.\n",
    "    '''\n",
    "    demographics_by_county ={'NH Whites':[], 'Hispanic':[], 'NH Asian':[],'NH Am Indian/Native':[],'NH Afr Am':[]}\n",
    "    for row in county_rows:\n",
    "        for eth in demographic_eth_cols:\n",
    "            demographics_by_county[eth].append([str(row['CTYNAME'].values[0]), int(row['NH Whites'].values)])\n",
    "    \n",
    "    demo_final_dict = demographics_by_county.copy()\n",
    "    for k,v in demographics_by_county.items():\n",
    "        demographic_df = pd.DataFrame(v)\n",
    "        demo_final_dict[k]=demographic_df\n",
    "    return demo_final_dict          \n",
    "    \n",
    "\n",
    "#top county bar chart\n",
    "def graph_top_county_demographics(county_demographics, chart_colors, saveloc):\n",
    "#     counties = pd.DataFrame(county_demographics)\n",
    "#     counties.fillna(0, inplace=True)\n",
    "#     counties['total'] = counties['White'] + counties['American Indian or Alaska Native'] + counties['Asian'] + counties['Black or African American']+ counties['Other'] + counties['Hispanic']\n",
    "#     counties = pd.DataFrame(counties).sort_values('total')    \n",
    "#     counties.drop('total', axis=1,inplace=True)\n",
    "    \n",
    "    \n",
    "    ax = counties.plot(kind='barh', stacked=True, color=chart_colors,figsize=(10,6))\n",
    "    plt.yticks(fontsize = 16)\n",
    "    ax.set_xlabel('Number of People', fontsize=17)\n",
    "    ax.set_title('Demographics of Top 8 Counties for Loans', fontsize=18)\n",
    "    plt.savefig(saveloc, bbox_inches='tight')\n",
    "    \n",
    "county_demographics = top_county_demographics(county_rows, demographic_eth_cols)\n",
    "\n",
    "graph_top_county_demographics(county_demographics, chart_colors, '../images/demographics_top_counties.png')"
   ]
  },
  {
   "cell_type": "code",
   "execution_count": null,
   "metadata": {},
   "outputs": [],
   "source": []
  }
 ],
 "metadata": {
  "kernelspec": {
   "display_name": "Python 3",
   "language": "python",
   "name": "python3"
  },
  "language_info": {
   "codemirror_mode": {
    "name": "ipython",
    "version": 3
   },
   "file_extension": ".py",
   "mimetype": "text/x-python",
   "name": "python",
   "nbconvert_exporter": "python",
   "pygments_lexer": "ipython3",
   "version": "3.7.4"
  }
 },
 "nbformat": 4,
 "nbformat_minor": 4
}
