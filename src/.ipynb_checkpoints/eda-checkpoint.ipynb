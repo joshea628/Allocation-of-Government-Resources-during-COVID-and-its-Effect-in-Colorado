{
 "cells": [
  {
   "cell_type": "code",
   "execution_count": 1,
   "metadata": {},
   "outputs": [],
   "source": [
    "import pandas as pd\n",
    "import numpy as np\n",
    "import matplotlib.pyplot as plt\n",
    "import seaborn as sns\n",
    "from fancyimpute import KNN\n",
    "from sklearn.preprocessing import OrdinalEncoder\n",
    "plt.style.use('ggplot')"
   ]
  },
  {
   "cell_type": "code",
   "execution_count": 2,
   "metadata": {},
   "outputs": [
    {
     "name": "stdout",
     "output_type": "stream",
     "text": [
      "<class 'pandas.core.frame.DataFrame'>\n",
      "RangeIndex: 91018 entries, 0 to 91017\n",
      "Data columns (total 14 columns):\n",
      " #   Column         Non-Null Count  Dtype  \n",
      "---  ------         --------------  -----  \n",
      " 0   LoanAmount     91018 non-null  float64\n",
      " 1   City           91017 non-null  object \n",
      " 2   State          91018 non-null  object \n",
      " 3   Zip            91017 non-null  float64\n",
      " 4   NAICSCode      88767 non-null  float64\n",
      " 5   BusinessType   90949 non-null  object \n",
      " 6   RaceEthnicity  91018 non-null  object \n",
      " 7   Gender         91018 non-null  object \n",
      " 8   Veteran        91018 non-null  object \n",
      " 9   NonProfit      3016 non-null   object \n",
      " 10  JobsRetained   82822 non-null  float64\n",
      " 11  DateApproved   91018 non-null  object \n",
      " 12  Lender         91018 non-null  object \n",
      " 13  CD             91018 non-null  object \n",
      "dtypes: float64(4), object(10)\n",
      "memory usage: 9.7+ MB\n"
     ]
    }
   ],
   "source": [
    "df = pd.read_csv('../.gitignore/PPP_data_to_150k.csv')\n",
    "df.info()"
   ]
  },
  {
   "cell_type": "code",
   "execution_count": 3,
   "metadata": {},
   "outputs": [],
   "source": [
    "df2 = df[~df.RaceEthnicity.str.contains(\"Unanswered\")]"
   ]
  },
  {
   "cell_type": "code",
   "execution_count": 4,
   "metadata": {},
   "outputs": [],
   "source": [
    "ethnicities = df2['RaceEthnicity'].unique()\n"
   ]
  },
  {
   "cell_type": "code",
   "execution_count": 5,
   "metadata": {},
   "outputs": [],
   "source": [
    "def split_ethnicities(ethnicities):\n",
    "    dataframes = [df2[df2['RaceEthnicity'] == name] for name in ethnicities]\n",
    "    return dataframes\n"
   ]
  },
  {
   "cell_type": "code",
   "execution_count": 6,
   "metadata": {},
   "outputs": [],
   "source": [
    "white_df, hispanic_df, am_indian_alaska_df, asian_df, black_df, puerto_rican_df = split_ethnicities(ethnicities)"
   ]
  },
  {
   "cell_type": "code",
   "execution_count": 7,
   "metadata": {},
   "outputs": [],
   "source": [
    "ethnicity_dfs = [white_df, hispanic_df, am_indian_alaska_df, asian_df, black_df, puerto_rican_df]"
   ]
  },
  {
   "cell_type": "code",
   "execution_count": 8,
   "metadata": {},
   "outputs": [],
   "source": [
    "chart_colors = ['blue', 'red', 'green', 'orange', 'yellow', 'black']"
   ]
  },
  {
   "cell_type": "code",
   "execution_count": 9,
   "metadata": {},
   "outputs": [
    {
     "data": {
      "text/plain": [
       "{'White': 46412.07,\n",
       " 'Hispanic': 35137.54,\n",
       " 'American Indian or Alaska Native': 45856.46,\n",
       " 'Asian': 41364.28,\n",
       " 'Black or African American': 29041.72,\n",
       " 'Puerto Rican': 4375.0}"
      ]
     },
     "execution_count": 9,
     "metadata": {},
     "output_type": "execute_result"
    }
   ],
   "source": [
    "# average loan amount for each ethnicity\n",
    "def avg_loan_by_ethnicity(ethnicities, ethnicity_dfs):\n",
    "    '''\n",
    "    Computes average loan amount for each dataframe in inputted list.\n",
    "\n",
    "    Returns: Dictionary of averages for each ethnicity in the form of ethnicity:average\n",
    "    '''\n",
    "    avg_loan = {eth:round(df['LoanAmount'].mean(),2) for eth, df in zip(ethnicities, ethnicity_dfs)}\n",
    "    return avg_loan\n",
    "ethnicity_avg_loan = avg_loan_by_ethnicity(ethnicities, ethnicity_dfs)\n",
    "ethnicity_avg_loan"
   ]
  },
  {
   "cell_type": "code",
   "execution_count": 10,
   "metadata": {},
   "outputs": [
    {
     "ename": "TypeError",
     "evalue": "avg_loan_by_ethnicity() missing 1 required positional argument: 'ethnicity_dfs'",
     "output_type": "error",
     "traceback": [
      "\u001b[0;31m---------------------------------------------------------------------------\u001b[0m",
      "\u001b[0;31mTypeError\u001b[0m                                 Traceback (most recent call last)",
      "\u001b[0;32m<ipython-input-10-8cd474973b68>\u001b[0m in \u001b[0;36m<module>\u001b[0;34m\u001b[0m\n\u001b[0;32m----> 1\u001b[0;31m \u001b[0mwhite_avg\u001b[0m\u001b[0;34m,\u001b[0m \u001b[0mhispanic_avg\u001b[0m\u001b[0;34m,\u001b[0m \u001b[0mam_indian_alaska_avg\u001b[0m\u001b[0;34m,\u001b[0m \u001b[0masian_avg\u001b[0m\u001b[0;34m,\u001b[0m \u001b[0mblack_avg\u001b[0m\u001b[0;34m,\u001b[0m \u001b[0mpuerto_rican_avg\u001b[0m \u001b[0;34m=\u001b[0m \u001b[0mavg_loan_by_ethnicity\u001b[0m\u001b[0;34m(\u001b[0m\u001b[0methnicity_dfs\u001b[0m\u001b[0;34m)\u001b[0m\u001b[0;34m\u001b[0m\u001b[0;34m\u001b[0m\u001b[0m\n\u001b[0m",
      "\u001b[0;31mTypeError\u001b[0m: avg_loan_by_ethnicity() missing 1 required positional argument: 'ethnicity_dfs'"
     ]
    }
   ],
   "source": [
    "white_avg, hispanic_avg, am_indian_alaska_avg, asian_avg, black_avg, puerto_rican_avg = avg_loan_by_ethnicity(ethnicity_dfs)"
   ]
  },
  {
   "cell_type": "code",
   "execution_count": null,
   "metadata": {},
   "outputs": [],
   "source": [
    "ethnicity_avg_loans = [white_avg, hispanic_avg, am_indian_alaska_avg, asian_avg, black_avg, puerto_rican_avg]"
   ]
  },
  {
   "cell_type": "code",
   "execution_count": null,
   "metadata": {},
   "outputs": [],
   "source": [
    "#graph loan amounts \n",
    "def average_loan_ethnicity(ethnicity_avg_loan, chart_colors, save_loc):\n",
    "    fig, ax = plt.subplots(1, figsize=(12,4), dpi=700)\n",
    "    keys = ethnicity_avg_loan.keys()\n",
    "    averages = ethnicity_avg_loan.values()\n",
    "    bar = ax.bar(keys, averages)\n",
    "    for i in range(len(ethnicity_avg_loan)):\n",
    "        bar[i].set_color(chart_colors[i])\n",
    "    plt.xticks(rotation=45, fontsize=12)\n",
    "    ax.set_xlabel('Ethnicity', fontsize= 16)\n",
    "    ax.set_ylabel('Average Loan Amount in $', fontsize= 16)\n",
    "    ax.set_title('Average Loan Amount by Ethnicity in Colorado', fontsize=18)\n",
    "    \n",
    "    plt.savefig(save_loc, bbox_inches='tight')\n",
    "    "
   ]
  },
  {
   "cell_type": "code",
   "execution_count": null,
   "metadata": {},
   "outputs": [],
   "source": [
    "average_loan_ethnicity(ethnicity_avg_loan, chart_colors, '../images/avg_loan_ethnicity.png')"
   ]
  },
  {
   "cell_type": "code",
   "execution_count": 11,
   "metadata": {},
   "outputs": [],
   "source": [
    "# #impute missing ethnicities\n",
    "# step 1: convert all unanswered fields in race ethnicity to Nan values\n",
    "df.loc[df['RaceEthnicity']=='Unanswered','RaceEthnicity']=np.nan"
   ]
  },
  {
   "cell_type": "code",
   "execution_count": 12,
   "metadata": {},
   "outputs": [
    {
     "name": "stderr",
     "output_type": "stream",
     "text": [
      "/Users/jenniferoshea/opt/anaconda3/lib/python3.7/site-packages/pandas/core/indexing.py:671: SettingWithCopyWarning: \n",
      "A value is trying to be set on a copy of a slice from a DataFrame\n",
      "\n",
      "See the caveats in the documentation: https://pandas.pydata.org/pandas-docs/stable/user_guide/indexing.html#returning-a-view-versus-a-copy\n",
      "  self._setitem_with_indexer(indexer, value)\n",
      "/Users/jenniferoshea/opt/anaconda3/lib/python3.7/site-packages/pandas/core/indexing.py:671: SettingWithCopyWarning: \n",
      "A value is trying to be set on a copy of a slice from a DataFrame\n",
      "\n",
      "See the caveats in the documentation: https://pandas.pydata.org/pandas-docs/stable/user_guide/indexing.html#returning-a-view-versus-a-copy\n",
      "  self._setitem_with_indexer(indexer, value)\n",
      "/Users/jenniferoshea/opt/anaconda3/lib/python3.7/site-packages/pandas/core/indexing.py:671: SettingWithCopyWarning: \n",
      "A value is trying to be set on a copy of a slice from a DataFrame\n",
      "\n",
      "See the caveats in the documentation: https://pandas.pydata.org/pandas-docs/stable/user_guide/indexing.html#returning-a-view-versus-a-copy\n",
      "  self._setitem_with_indexer(indexer, value)\n",
      "/Users/jenniferoshea/opt/anaconda3/lib/python3.7/site-packages/pandas/core/indexing.py:671: SettingWithCopyWarning: \n",
      "A value is trying to be set on a copy of a slice from a DataFrame\n",
      "\n",
      "See the caveats in the documentation: https://pandas.pydata.org/pandas-docs/stable/user_guide/indexing.html#returning-a-view-versus-a-copy\n",
      "  self._setitem_with_indexer(indexer, value)\n",
      "/Users/jenniferoshea/opt/anaconda3/lib/python3.7/site-packages/pandas/core/indexing.py:671: SettingWithCopyWarning: \n",
      "A value is trying to be set on a copy of a slice from a DataFrame\n",
      "\n",
      "See the caveats in the documentation: https://pandas.pydata.org/pandas-docs/stable/user_guide/indexing.html#returning-a-view-versus-a-copy\n",
      "  self._setitem_with_indexer(indexer, value)\n",
      "/Users/jenniferoshea/opt/anaconda3/lib/python3.7/site-packages/pandas/core/indexing.py:671: SettingWithCopyWarning: \n",
      "A value is trying to be set on a copy of a slice from a DataFrame\n",
      "\n",
      "See the caveats in the documentation: https://pandas.pydata.org/pandas-docs/stable/user_guide/indexing.html#returning-a-view-versus-a-copy\n",
      "  self._setitem_with_indexer(indexer, value)\n",
      "/Users/jenniferoshea/opt/anaconda3/lib/python3.7/site-packages/pandas/core/indexing.py:671: SettingWithCopyWarning: \n",
      "A value is trying to be set on a copy of a slice from a DataFrame\n",
      "\n",
      "See the caveats in the documentation: https://pandas.pydata.org/pandas-docs/stable/user_guide/indexing.html#returning-a-view-versus-a-copy\n",
      "  self._setitem_with_indexer(indexer, value)\n",
      "/Users/jenniferoshea/opt/anaconda3/lib/python3.7/site-packages/pandas/core/indexing.py:671: SettingWithCopyWarning: \n",
      "A value is trying to be set on a copy of a slice from a DataFrame\n",
      "\n",
      "See the caveats in the documentation: https://pandas.pydata.org/pandas-docs/stable/user_guide/indexing.html#returning-a-view-versus-a-copy\n",
      "  self._setitem_with_indexer(indexer, value)\n",
      "/Users/jenniferoshea/opt/anaconda3/lib/python3.7/site-packages/pandas/core/indexing.py:671: SettingWithCopyWarning: \n",
      "A value is trying to be set on a copy of a slice from a DataFrame\n",
      "\n",
      "See the caveats in the documentation: https://pandas.pydata.org/pandas-docs/stable/user_guide/indexing.html#returning-a-view-versus-a-copy\n",
      "  self._setitem_with_indexer(indexer, value)\n",
      "/Users/jenniferoshea/opt/anaconda3/lib/python3.7/site-packages/pandas/core/indexing.py:671: SettingWithCopyWarning: \n",
      "A value is trying to be set on a copy of a slice from a DataFrame\n",
      "\n",
      "See the caveats in the documentation: https://pandas.pydata.org/pandas-docs/stable/user_guide/indexing.html#returning-a-view-versus-a-copy\n",
      "  self._setitem_with_indexer(indexer, value)\n"
     ]
    },
    {
     "data": {
      "text/html": [
       "<div>\n",
       "<style scoped>\n",
       "    .dataframe tbody tr th:only-of-type {\n",
       "        vertical-align: middle;\n",
       "    }\n",
       "\n",
       "    .dataframe tbody tr th {\n",
       "        vertical-align: top;\n",
       "    }\n",
       "\n",
       "    .dataframe thead th {\n",
       "        text-align: right;\n",
       "    }\n",
       "</style>\n",
       "<table border=\"1\" class=\"dataframe\">\n",
       "  <thead>\n",
       "    <tr style=\"text-align: right;\">\n",
       "      <th></th>\n",
       "      <th>LoanAmount</th>\n",
       "      <th>City</th>\n",
       "      <th>State</th>\n",
       "      <th>Zip</th>\n",
       "      <th>NAICSCode</th>\n",
       "      <th>BusinessType</th>\n",
       "      <th>RaceEthnicity</th>\n",
       "      <th>Gender</th>\n",
       "      <th>Veteran</th>\n",
       "      <th>NonProfit</th>\n",
       "      <th>JobsRetained</th>\n",
       "      <th>DateApproved</th>\n",
       "      <th>Lender</th>\n",
       "      <th>CD</th>\n",
       "    </tr>\n",
       "  </thead>\n",
       "  <tbody>\n",
       "    <tr>\n",
       "      <th>0</th>\n",
       "      <td>149995.0</td>\n",
       "      <td>537</td>\n",
       "      <td>0.0</td>\n",
       "      <td>80134.0</td>\n",
       "      <td>541618.0</td>\n",
       "      <td>13</td>\n",
       "      <td>5</td>\n",
       "      <td>2.0</td>\n",
       "      <td>1.0</td>\n",
       "      <td>NaN</td>\n",
       "      <td>9.0</td>\n",
       "      <td>16.0</td>\n",
       "      <td>468.0</td>\n",
       "      <td>7.0</td>\n",
       "    </tr>\n",
       "    <tr>\n",
       "      <th>1</th>\n",
       "      <td>149947.0</td>\n",
       "      <td>610</td>\n",
       "      <td>0.0</td>\n",
       "      <td>81615.0</td>\n",
       "      <td>NaN</td>\n",
       "      <td>5</td>\n",
       "      <td>NaN</td>\n",
       "      <td>2.0</td>\n",
       "      <td>1.0</td>\n",
       "      <td>NaN</td>\n",
       "      <td>11.0</td>\n",
       "      <td>20.0</td>\n",
       "      <td>866.0</td>\n",
       "      <td>6.0</td>\n",
       "    </tr>\n",
       "    <tr>\n",
       "      <th>2</th>\n",
       "      <td>149945.0</td>\n",
       "      <td>198</td>\n",
       "      <td>0.0</td>\n",
       "      <td>80221.0</td>\n",
       "      <td>221115.0</td>\n",
       "      <td>5</td>\n",
       "      <td>NaN</td>\n",
       "      <td>2.0</td>\n",
       "      <td>1.0</td>\n",
       "      <td>NaN</td>\n",
       "      <td>19.0</td>\n",
       "      <td>15.0</td>\n",
       "      <td>263.0</td>\n",
       "      <td>4.0</td>\n",
       "    </tr>\n",
       "    <tr>\n",
       "      <th>3</th>\n",
       "      <td>149925.0</td>\n",
       "      <td>488</td>\n",
       "      <td>0.0</td>\n",
       "      <td>80132.0</td>\n",
       "      <td>541940.0</td>\n",
       "      <td>1</td>\n",
       "      <td>NaN</td>\n",
       "      <td>0.0</td>\n",
       "      <td>0.0</td>\n",
       "      <td>NaN</td>\n",
       "      <td>15.0</td>\n",
       "      <td>4.0</td>\n",
       "      <td>503.0</td>\n",
       "      <td>7.0</td>\n",
       "    </tr>\n",
       "    <tr>\n",
       "      <th>4</th>\n",
       "      <td>149900.0</td>\n",
       "      <td>198</td>\n",
       "      <td>0.0</td>\n",
       "      <td>80230.0</td>\n",
       "      <td>484121.0</td>\n",
       "      <td>13</td>\n",
       "      <td>NaN</td>\n",
       "      <td>2.0</td>\n",
       "      <td>1.0</td>\n",
       "      <td>NaN</td>\n",
       "      <td>9.0</td>\n",
       "      <td>16.0</td>\n",
       "      <td>217.0</td>\n",
       "      <td>4.0</td>\n",
       "    </tr>\n",
       "  </tbody>\n",
       "</table>\n",
       "</div>"
      ],
      "text/plain": [
       "   LoanAmount City  State      Zip  NAICSCode BusinessType RaceEthnicity  \\\n",
       "0    149995.0  537    0.0  80134.0   541618.0           13             5   \n",
       "1    149947.0  610    0.0  81615.0        NaN            5           NaN   \n",
       "2    149945.0  198    0.0  80221.0   221115.0            5           NaN   \n",
       "3    149925.0  488    0.0  80132.0   541940.0            1           NaN   \n",
       "4    149900.0  198    0.0  80230.0   484121.0           13           NaN   \n",
       "\n",
       "   Gender  Veteran NonProfit  JobsRetained  DateApproved  Lender   CD  \n",
       "0     2.0      1.0       NaN           9.0          16.0   468.0  7.0  \n",
       "1     2.0      1.0       NaN          11.0          20.0   866.0  6.0  \n",
       "2     2.0      1.0       NaN          19.0          15.0   263.0  4.0  \n",
       "3     0.0      0.0       NaN          15.0           4.0   503.0  7.0  \n",
       "4     2.0      1.0       NaN           9.0          16.0   217.0  4.0  "
      ]
     },
     "execution_count": 12,
     "metadata": {},
     "output_type": "execute_result"
    }
   ],
   "source": [
    "#encode categorical data to numerical values\n",
    "encoder = OrdinalEncoder()\n",
    "\n",
    "#list of categorical variables\n",
    "categ_cols = df[['City','State','BusinessType','RaceEthnicity','Gender','Veteran','NonProfit','Lender','CD','DateApproved']]\n",
    "\n",
    "#encode non-null data and replace it in the original data\n",
    "def encode(df):\n",
    "    nonulls = np.array(df.dropna())\n",
    "    reshape = nonulls.reshape(-1,1)\n",
    "    impute = encoder.fit_transform(reshape)\n",
    "    df.loc[df.notnull()] = np.squeeze(impute)\n",
    "    return df\n",
    "\n",
    "for col in categ_cols:\n",
    "    encode(df[col])\n",
    "df.head()"
   ]
  },
  {
   "cell_type": "code",
   "execution_count": 13,
   "metadata": {},
   "outputs": [],
   "source": [
    "#drop nonprofit column\n",
    "df.drop('NonProfit', axis=1,inplace=True)\n",
    "\n"
   ]
  },
  {
   "cell_type": "code",
   "execution_count": 14,
   "metadata": {},
   "outputs": [
    {
     "data": {
      "text/html": [
       "<div>\n",
       "<style scoped>\n",
       "    .dataframe tbody tr th:only-of-type {\n",
       "        vertical-align: middle;\n",
       "    }\n",
       "\n",
       "    .dataframe tbody tr th {\n",
       "        vertical-align: top;\n",
       "    }\n",
       "\n",
       "    .dataframe thead th {\n",
       "        text-align: right;\n",
       "    }\n",
       "</style>\n",
       "<table border=\"1\" class=\"dataframe\">\n",
       "  <thead>\n",
       "    <tr style=\"text-align: right;\">\n",
       "      <th></th>\n",
       "      <th>LoanAmount</th>\n",
       "      <th>City</th>\n",
       "      <th>State</th>\n",
       "      <th>Zip</th>\n",
       "      <th>NAICSCode</th>\n",
       "      <th>BusinessType</th>\n",
       "      <th>RaceEthnicity</th>\n",
       "      <th>Gender</th>\n",
       "      <th>Veteran</th>\n",
       "      <th>JobsRetained</th>\n",
       "      <th>DateApproved</th>\n",
       "      <th>Lender</th>\n",
       "      <th>CD</th>\n",
       "    </tr>\n",
       "  </thead>\n",
       "  <tbody>\n",
       "    <tr>\n",
       "      <th>0</th>\n",
       "      <td>149995.0</td>\n",
       "      <td>537</td>\n",
       "      <td>0.0</td>\n",
       "      <td>80134.0</td>\n",
       "      <td>541618.0</td>\n",
       "      <td>13</td>\n",
       "      <td>5</td>\n",
       "      <td>2.0</td>\n",
       "      <td>1.0</td>\n",
       "      <td>9.0</td>\n",
       "      <td>16.0</td>\n",
       "      <td>468.0</td>\n",
       "      <td>7.0</td>\n",
       "    </tr>\n",
       "    <tr>\n",
       "      <th>1</th>\n",
       "      <td>149947.0</td>\n",
       "      <td>610</td>\n",
       "      <td>0.0</td>\n",
       "      <td>81615.0</td>\n",
       "      <td>NaN</td>\n",
       "      <td>5</td>\n",
       "      <td>NaN</td>\n",
       "      <td>2.0</td>\n",
       "      <td>1.0</td>\n",
       "      <td>11.0</td>\n",
       "      <td>20.0</td>\n",
       "      <td>866.0</td>\n",
       "      <td>6.0</td>\n",
       "    </tr>\n",
       "    <tr>\n",
       "      <th>2</th>\n",
       "      <td>149945.0</td>\n",
       "      <td>198</td>\n",
       "      <td>0.0</td>\n",
       "      <td>80221.0</td>\n",
       "      <td>221115.0</td>\n",
       "      <td>5</td>\n",
       "      <td>NaN</td>\n",
       "      <td>2.0</td>\n",
       "      <td>1.0</td>\n",
       "      <td>19.0</td>\n",
       "      <td>15.0</td>\n",
       "      <td>263.0</td>\n",
       "      <td>4.0</td>\n",
       "    </tr>\n",
       "    <tr>\n",
       "      <th>3</th>\n",
       "      <td>149925.0</td>\n",
       "      <td>488</td>\n",
       "      <td>0.0</td>\n",
       "      <td>80132.0</td>\n",
       "      <td>541940.0</td>\n",
       "      <td>1</td>\n",
       "      <td>NaN</td>\n",
       "      <td>0.0</td>\n",
       "      <td>0.0</td>\n",
       "      <td>15.0</td>\n",
       "      <td>4.0</td>\n",
       "      <td>503.0</td>\n",
       "      <td>7.0</td>\n",
       "    </tr>\n",
       "    <tr>\n",
       "      <th>4</th>\n",
       "      <td>149900.0</td>\n",
       "      <td>198</td>\n",
       "      <td>0.0</td>\n",
       "      <td>80230.0</td>\n",
       "      <td>484121.0</td>\n",
       "      <td>13</td>\n",
       "      <td>NaN</td>\n",
       "      <td>2.0</td>\n",
       "      <td>1.0</td>\n",
       "      <td>9.0</td>\n",
       "      <td>16.0</td>\n",
       "      <td>217.0</td>\n",
       "      <td>4.0</td>\n",
       "    </tr>\n",
       "  </tbody>\n",
       "</table>\n",
       "</div>"
      ],
      "text/plain": [
       "   LoanAmount City  State      Zip  NAICSCode BusinessType RaceEthnicity  \\\n",
       "0    149995.0  537    0.0  80134.0   541618.0           13             5   \n",
       "1    149947.0  610    0.0  81615.0        NaN            5           NaN   \n",
       "2    149945.0  198    0.0  80221.0   221115.0            5           NaN   \n",
       "3    149925.0  488    0.0  80132.0   541940.0            1           NaN   \n",
       "4    149900.0  198    0.0  80230.0   484121.0           13           NaN   \n",
       "\n",
       "   Gender  Veteran  JobsRetained  DateApproved  Lender   CD  \n",
       "0     2.0      1.0           9.0          16.0   468.0  7.0  \n",
       "1     2.0      1.0          11.0          20.0   866.0  6.0  \n",
       "2     2.0      1.0          19.0          15.0   263.0  4.0  \n",
       "3     0.0      0.0          15.0           4.0   503.0  7.0  \n",
       "4     2.0      1.0           9.0          16.0   217.0  4.0  "
      ]
     },
     "execution_count": 14,
     "metadata": {},
     "output_type": "execute_result"
    }
   ],
   "source": [
    "df.head()"
   ]
  },
  {
   "cell_type": "code",
   "execution_count": null,
   "metadata": {},
   "outputs": [],
   "source": [
    "df_imputed = KNN(k=3).fit_transform(df)"
   ]
  },
  {
   "cell_type": "code",
   "execution_count": null,
   "metadata": {},
   "outputs": [],
   "source": [
    "# df_imputed.head()"
   ]
  },
  {
   "cell_type": "code",
   "execution_count": null,
   "metadata": {},
   "outputs": [],
   "source": []
  }
 ],
 "metadata": {
  "kernelspec": {
   "display_name": "Python 3",
   "language": "python",
   "name": "python3"
  },
  "language_info": {
   "codemirror_mode": {
    "name": "ipython",
    "version": 3
   },
   "file_extension": ".py",
   "mimetype": "text/x-python",
   "name": "python",
   "nbconvert_exporter": "python",
   "pygments_lexer": "ipython3",
   "version": "3.7.4"
  }
 },
 "nbformat": 4,
 "nbformat_minor": 4
}
